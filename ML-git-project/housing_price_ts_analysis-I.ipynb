{
 "cells": [
  {
   "cell_type": "markdown",
   "metadata": {},
   "source": [
    "# Time Series Data Analysis and Future Prediction: Part I"
   ]
  },
  {
   "cell_type": "markdown",
   "metadata": {},
   "source": [
    "In this project I am going to analyze the housing price in Austin, TX area using two different zipcodes: I took the data from Quandl which is 2010-11-30 to 2017-05-31 as per month. The price value is in the order of 10^5."
   ]
  },
  {
   "cell_type": "code",
   "execution_count": 4,
   "metadata": {
    "collapsed": true
   },
   "outputs": [],
   "source": [
    "import numpy as np\n",
    "import pandas as pd\n",
    "import matplotlib.pyplot as plt\n",
    "import seaborn as sns\n",
    "%matplotlib inline"
   ]
  },
  {
   "cell_type": "markdown",
   "metadata": {},
   "source": [
    "Data import using quandal code and key:\n"
   ]
  },
  {
   "cell_type": "code",
   "execution_count": 5,
   "metadata": {
    "collapsed": true
   },
   "outputs": [],
   "source": [
    "#import quandl\n",
    "#north_austin = quandl.get('ZILLOW/N11993_ZHVIAH', authtoken=\"your key here\")"
   ]
  },
  {
   "cell_type": "markdown",
   "metadata": {},
   "source": [
    "Let first read data file using pandas. "
   ]
  },
  {
   "cell_type": "code",
   "execution_count": 6,
   "metadata": {},
   "outputs": [],
   "source": [
    "#north_austin.plot()"
   ]
  },
  {
   "cell_type": "code",
   "execution_count": 7,
   "metadata": {
    "collapsed": true
   },
   "outputs": [],
   "source": [
    "##Read data for zipcode 78701 and set Date as index\n",
    "zip_01 = pd.read_csv('ZILLOW-Z78701_ZRIFAH.csv', index_col='Date')\n",
    "zip_01 = zip_01.sort_index(axis=0, ascending=True)"
   ]
  },
  {
   "cell_type": "code",
   "execution_count": 8,
   "metadata": {},
   "outputs": [
    {
     "name": "stdout",
     "output_type": "stream",
     "text": [
      "<class 'pandas.core.frame.DataFrame'>\n",
      "Index: 79 entries, 2010-11-30 to 2017-05-31\n",
      "Data columns (total 1 columns):\n",
      "Value    79 non-null float64\n",
      "dtypes: float64(1)\n",
      "memory usage: 1.2+ KB\n"
     ]
    }
   ],
   "source": [
    "zip_01.info()"
   ]
  },
  {
   "cell_type": "code",
   "execution_count": 9,
   "metadata": {},
   "outputs": [
    {
     "data": {
      "text/html": [
       "<div>\n",
       "<style>\n",
       "    .dataframe thead tr:only-child th {\n",
       "        text-align: right;\n",
       "    }\n",
       "\n",
       "    .dataframe thead th {\n",
       "        text-align: left;\n",
       "    }\n",
       "\n",
       "    .dataframe tbody tr th {\n",
       "        vertical-align: top;\n",
       "    }\n",
       "</style>\n",
       "<table border=\"1\" class=\"dataframe\">\n",
       "  <thead>\n",
       "    <tr style=\"text-align: right;\">\n",
       "      <th></th>\n",
       "      <th>Value</th>\n",
       "    </tr>\n",
       "    <tr>\n",
       "      <th>Date</th>\n",
       "      <th></th>\n",
       "    </tr>\n",
       "  </thead>\n",
       "  <tbody>\n",
       "    <tr>\n",
       "      <th>2010-11-30</th>\n",
       "      <td>1.786</td>\n",
       "    </tr>\n",
       "    <tr>\n",
       "      <th>2010-12-31</th>\n",
       "      <td>1.802</td>\n",
       "    </tr>\n",
       "    <tr>\n",
       "      <th>2011-01-31</th>\n",
       "      <td>1.838</td>\n",
       "    </tr>\n",
       "    <tr>\n",
       "      <th>2011-02-28</th>\n",
       "      <td>1.886</td>\n",
       "    </tr>\n",
       "    <tr>\n",
       "      <th>2011-03-31</th>\n",
       "      <td>1.924</td>\n",
       "    </tr>\n",
       "  </tbody>\n",
       "</table>\n",
       "</div>"
      ],
      "text/plain": [
       "            Value\n",
       "Date             \n",
       "2010-11-30  1.786\n",
       "2010-12-31  1.802\n",
       "2011-01-31  1.838\n",
       "2011-02-28  1.886\n",
       "2011-03-31  1.924"
      ]
     },
     "execution_count": 9,
     "metadata": {},
     "output_type": "execute_result"
    }
   ],
   "source": [
    "zip_01.head()"
   ]
  },
  {
   "cell_type": "code",
   "execution_count": 10,
   "metadata": {
    "collapsed": true
   },
   "outputs": [],
   "source": [
    "##Read data for zipcode 78717\n",
    "zip_17 = pd.read_csv('ZILLOW-Z78717_ZRIFAH.csv', index_col='Date')\n",
    "zip_17 = zip_17.sort_index(axis=0, ascending=True)"
   ]
  },
  {
   "cell_type": "code",
   "execution_count": 11,
   "metadata": {},
   "outputs": [
    {
     "data": {
      "text/html": [
       "<div>\n",
       "<style>\n",
       "    .dataframe thead tr:only-child th {\n",
       "        text-align: right;\n",
       "    }\n",
       "\n",
       "    .dataframe thead th {\n",
       "        text-align: left;\n",
       "    }\n",
       "\n",
       "    .dataframe tbody tr th {\n",
       "        vertical-align: top;\n",
       "    }\n",
       "</style>\n",
       "<table border=\"1\" class=\"dataframe\">\n",
       "  <thead>\n",
       "    <tr style=\"text-align: right;\">\n",
       "      <th></th>\n",
       "      <th>Value</th>\n",
       "    </tr>\n",
       "    <tr>\n",
       "      <th>Date</th>\n",
       "      <th></th>\n",
       "    </tr>\n",
       "  </thead>\n",
       "  <tbody>\n",
       "    <tr>\n",
       "      <th>2010-11-30</th>\n",
       "      <td>0.662</td>\n",
       "    </tr>\n",
       "    <tr>\n",
       "      <th>2010-12-31</th>\n",
       "      <td>0.668</td>\n",
       "    </tr>\n",
       "    <tr>\n",
       "      <th>2011-01-31</th>\n",
       "      <td>0.672</td>\n",
       "    </tr>\n",
       "    <tr>\n",
       "      <th>2011-02-28</th>\n",
       "      <td>0.678</td>\n",
       "    </tr>\n",
       "    <tr>\n",
       "      <th>2011-03-31</th>\n",
       "      <td>0.678</td>\n",
       "    </tr>\n",
       "  </tbody>\n",
       "</table>\n",
       "</div>"
      ],
      "text/plain": [
       "            Value\n",
       "Date             \n",
       "2010-11-30  0.662\n",
       "2010-12-31  0.668\n",
       "2011-01-31  0.672\n",
       "2011-02-28  0.678\n",
       "2011-03-31  0.678"
      ]
     },
     "execution_count": 11,
     "metadata": {},
     "output_type": "execute_result"
    }
   ],
   "source": [
    "zip_17.head()"
   ]
  },
  {
   "cell_type": "code",
   "execution_count": 31,
   "metadata": {},
   "outputs": [
    {
     "data": {
      "image/png": "[encoded data removed]",
      "text/plain": [
       "<matplotlib.figure.Figure at 0x117fc5390>"
      ]
     },
     "metadata": {},
     "output_type": "display_data"
    }
   ],
   "source": [
    "zip_01['Value'].plot(label='Zip-78701',figsize=(16,4), title='Average Houses Price in 100 thousands')\n",
    "zip_17['Value'].plot(label='Zip-78717')\n",
    "plt.legend();"
   ]
  },
  {
   "cell_type": "markdown",
   "metadata": {},
   "source": [
    "## Lets check when is maxmimum value of housing price."
   ]
  },
  {
   "cell_type": "code",
   "execution_count": 13,
   "metadata": {},
   "outputs": [
    {
     "data": {
      "text/plain": [
       "'2016-01-31'"
      ]
     },
     "execution_count": 13,
     "metadata": {},
     "output_type": "execute_result"
    }
   ],
   "source": [
    "zip_01['Value'].argmax()"
   ]
  },
  {
   "cell_type": "code",
   "execution_count": 14,
   "metadata": {},
   "outputs": [
    {
     "data": {
      "text/plain": [
       "'2016-08-31'"
      ]
     },
     "execution_count": 14,
     "metadata": {},
     "output_type": "execute_result"
    }
   ],
   "source": [
    "zip_17['Value'].argmax()"
   ]
  },
  {
   "cell_type": "markdown",
   "metadata": {},
   "source": [
    "Our data is already smooth so there is no need of smoothing but still we can do some test.\n",
    "Lets do moving averages of 2 months and 5 months on zip_01 data."
   ]
  },
  {
   "cell_type": "code",
   "execution_count": 15,
   "metadata": {
    "collapsed": true
   },
   "outputs": [],
   "source": [
    "zip_01['MA2']=zip_01['Value'].rolling(2).mean()\n",
    "zip_01['MA5']=zip_01['Value'].rolling(5).mean()"
   ]
  },
  {
   "cell_type": "code",
   "execution_count": 16,
   "metadata": {},
   "outputs": [
    {
     "data": {
      "text/plain": [
       "<matplotlib.axes._subplots.AxesSubplot at 0x117dbd278>"
      ]
     },
     "execution_count": 16,
     "metadata": {},
     "output_type": "execute_result"
    },
    {
     "data": {
      "image/png": "[encoded data removed]",
      "text/plain": [
       "<matplotlib.figure.Figure at 0x1155daa58>"
      ]
     },
     "metadata": {},
     "output_type": "display_data"
    }
   ],
   "source": [
    "zip_01[['Value', 'MA2', 'MA5']].plot(figsize=(16,4))"
   ]
  },
  {
   "cell_type": "markdown",
   "metadata": {},
   "source": [
    "Let concanate the zip_01 and zip_17 data in same file."
   ]
  },
  {
   "cell_type": "code",
   "execution_count": 17,
   "metadata": {
    "collapsed": true
   },
   "outputs": [],
   "source": [
    "price = pd.concat([zip_01['Value'], zip_17['Value']], axis=1)"
   ]
  },
  {
   "cell_type": "code",
   "execution_count": 18,
   "metadata": {
    "collapsed": true
   },
   "outputs": [],
   "source": [
    "price.columns=['Value zip_01', 'Value zip_17']"
   ]
  },
  {
   "cell_type": "code",
   "execution_count": 19,
   "metadata": {},
   "outputs": [
    {
     "data": {
      "text/html": [
       "<div>\n",
       "<style>\n",
       "    .dataframe thead tr:only-child th {\n",
       "        text-align: right;\n",
       "    }\n",
       "\n",
       "    .dataframe thead th {\n",
       "        text-align: left;\n",
       "    }\n",
       "\n",
       "    .dataframe tbody tr th {\n",
       "        vertical-align: top;\n",
       "    }\n",
       "</style>\n",
       "<table border=\"1\" class=\"dataframe\">\n",
       "  <thead>\n",
       "    <tr style=\"text-align: right;\">\n",
       "      <th></th>\n",
       "      <th>Value zip_01</th>\n",
       "      <th>Value zip_17</th>\n",
       "    </tr>\n",
       "    <tr>\n",
       "      <th>Date</th>\n",
       "      <th></th>\n",
       "      <th></th>\n",
       "    </tr>\n",
       "  </thead>\n",
       "  <tbody>\n",
       "    <tr>\n",
       "      <th>2010-11-30</th>\n",
       "      <td>1.786</td>\n",
       "      <td>0.662</td>\n",
       "    </tr>\n",
       "    <tr>\n",
       "      <th>2010-12-31</th>\n",
       "      <td>1.802</td>\n",
       "      <td>0.668</td>\n",
       "    </tr>\n",
       "    <tr>\n",
       "      <th>2011-01-31</th>\n",
       "      <td>1.838</td>\n",
       "      <td>0.672</td>\n",
       "    </tr>\n",
       "    <tr>\n",
       "      <th>2011-02-28</th>\n",
       "      <td>1.886</td>\n",
       "      <td>0.678</td>\n",
       "    </tr>\n",
       "    <tr>\n",
       "      <th>2011-03-31</th>\n",
       "      <td>1.924</td>\n",
       "      <td>0.678</td>\n",
       "    </tr>\n",
       "  </tbody>\n",
       "</table>\n",
       "</div>"
      ],
      "text/plain": [
       "            Value zip_01  Value zip_17\n",
       "Date                                  \n",
       "2010-11-30         1.786         0.662\n",
       "2010-12-31         1.802         0.668\n",
       "2011-01-31         1.838         0.672\n",
       "2011-02-28         1.886         0.678\n",
       "2011-03-31         1.924         0.678"
      ]
     },
     "execution_count": 19,
     "metadata": {},
     "output_type": "execute_result"
    }
   ],
   "source": [
    "price.head()"
   ]
  },
  {
   "cell_type": "code",
   "execution_count": 20,
   "metadata": {
    "collapsed": true
   },
   "outputs": [],
   "source": [
    "from pandas.plotting import scatter_matrix"
   ]
  },
  {
   "cell_type": "code",
   "execution_count": 21,
   "metadata": {},
   "outputs": [
    {
     "data": {
      "image/png": "[encoded data removed]",
      "text/plain": [
       "<matplotlib.figure.Figure at 0x117e066d8>"
      ]
     },
     "metadata": {},
     "output_type": "display_data"
    }
   ],
   "source": [
    "scatter_matrix(price,figsize=(8,8));"
   ]
  },
  {
   "cell_type": "markdown",
   "metadata": {},
   "source": [
    "Lets calculate the monthly percentage change of housing price using formula.\n",
    "r_t = (P_t/P_t-1)  -1"
   ]
  },
  {
   "cell_type": "code",
   "execution_count": 22,
   "metadata": {
    "collapsed": true
   },
   "outputs": [],
   "source": [
    "zip_01['Monthly_Change'] = (zip_01['Value']/zip_01['Value'].shift(1) - 1)"
   ]
  },
  {
   "cell_type": "code",
   "execution_count": 23,
   "metadata": {},
   "outputs": [
    {
     "data": {
      "text/plain": [
       "Date\n",
       "2010-11-30         NaN\n",
       "2010-12-31    0.008959\n",
       "2011-01-31    0.019978\n",
       "2011-02-28    0.026115\n",
       "2011-03-31    0.020148\n",
       "2011-04-30    0.012474\n",
       "2011-05-31    0.006160\n",
       "2011-06-30    0.000000\n",
       "2011-07-31   -0.002041\n",
       "2011-08-31   -0.001022\n",
       "2011-09-30    0.002047\n",
       "2011-10-31    0.002043\n",
       "2011-11-30    0.009174\n",
       "2011-12-31    0.003030\n",
       "2012-01-31    0.006042\n",
       "2012-02-29    0.002002\n",
       "2012-03-31    0.001998\n",
       "2012-04-30    0.002991\n",
       "2012-05-31    0.003976\n",
       "2012-06-30    0.003960\n",
       "2012-07-31    0.000986\n",
       "2012-08-31    0.002956\n",
       "2012-09-30    0.003929\n",
       "2012-10-31    0.005871\n",
       "2012-11-30    0.006809\n",
       "2012-12-31   -0.001932\n",
       "2013-01-31   -0.009681\n",
       "2013-02-28   -0.005865\n",
       "2013-03-31   -0.001967\n",
       "2013-04-30    0.003941\n",
       "                ...   \n",
       "2014-12-31    0.006140\n",
       "2015-01-31    0.001744\n",
       "2015-02-28    0.004352\n",
       "2015-03-31    0.000000\n",
       "2015-04-30    0.001733\n",
       "2015-05-31   -0.002595\n",
       "2015-06-30    0.000867\n",
       "2015-07-31    0.002600\n",
       "2015-08-31    0.002593\n",
       "2015-09-30   -0.000862\n",
       "2015-10-31   -0.000863\n",
       "2015-11-30    0.006045\n",
       "2015-12-31    0.005150\n",
       "2016-01-31    0.008540\n",
       "2016-02-29   -0.002540\n",
       "2016-03-31   -0.001698\n",
       "2016-04-30   -0.004252\n",
       "2016-05-31    0.005124\n",
       "2016-06-30    0.002549\n",
       "2016-07-31    0.000000\n",
       "2016-08-31   -0.000847\n",
       "2016-09-30    0.000000\n",
       "2016-10-31   -0.004241\n",
       "2016-11-30   -0.001704\n",
       "2016-12-31   -0.005119\n",
       "2017-01-31    0.000858\n",
       "2017-02-28    0.002571\n",
       "2017-03-31    0.002564\n",
       "2017-04-30    0.000853\n",
       "2017-05-31   -0.003407\n",
       "Name: Monthly_Change, Length: 79, dtype: float64"
      ]
     },
     "execution_count": 23,
     "metadata": {},
     "output_type": "execute_result"
    }
   ],
   "source": [
    "zip_01['Monthly_Change']"
   ]
  },
  {
   "cell_type": "markdown",
   "metadata": {},
   "source": [
    "But this can be done by using pandas builtin pct function also."
   ]
  },
  {
   "cell_type": "code",
   "execution_count": 24,
   "metadata": {
    "collapsed": true
   },
   "outputs": [],
   "source": [
    "# 1 in parenthesis is time unit in data frame. If there are daily data then it is daily \n",
    "# percentage change. But in this case it is monthly change.\n",
    "zip_01['Monthly_Change'] = zip_01['Value'].pct_change(1)"
   ]
  },
  {
   "cell_type": "code",
   "execution_count": 25,
   "metadata": {},
   "outputs": [
    {
     "data": {
      "text/plain": [
       "Date\n",
       "2010-11-30         NaN\n",
       "2010-12-31    0.008959\n",
       "2011-01-31    0.019978\n",
       "2011-02-28    0.026115\n",
       "2011-03-31    0.020148\n",
       "2011-04-30    0.012474\n",
       "2011-05-31    0.006160\n",
       "2011-06-30    0.000000\n",
       "2011-07-31   -0.002041\n",
       "2011-08-31   -0.001022\n",
       "2011-09-30    0.002047\n",
       "2011-10-31    0.002043\n",
       "2011-11-30    0.009174\n",
       "2011-12-31    0.003030\n",
       "2012-01-31    0.006042\n",
       "2012-02-29    0.002002\n",
       "2012-03-31    0.001998\n",
       "2012-04-30    0.002991\n",
       "2012-05-31    0.003976\n",
       "2012-06-30    0.003960\n",
       "2012-07-31    0.000986\n",
       "2012-08-31    0.002956\n",
       "2012-09-30    0.003929\n",
       "2012-10-31    0.005871\n",
       "2012-11-30    0.006809\n",
       "2012-12-31   -0.001932\n",
       "2013-01-31   -0.009681\n",
       "2013-02-28   -0.005865\n",
       "2013-03-31   -0.001967\n",
       "2013-04-30    0.003941\n",
       "                ...   \n",
       "2014-12-31    0.006140\n",
       "2015-01-31    0.001744\n",
       "2015-02-28    0.004352\n",
       "2015-03-31    0.000000\n",
       "2015-04-30    0.001733\n",
       "2015-05-31   -0.002595\n",
       "2015-06-30    0.000867\n",
       "2015-07-31    0.002600\n",
       "2015-08-31    0.002593\n",
       "2015-09-30   -0.000862\n",
       "2015-10-31   -0.000863\n",
       "2015-11-30    0.006045\n",
       "2015-12-31    0.005150\n",
       "2016-01-31    0.008540\n",
       "2016-02-29   -0.002540\n",
       "2016-03-31   -0.001698\n",
       "2016-04-30   -0.004252\n",
       "2016-05-31    0.005124\n",
       "2016-06-30    0.002549\n",
       "2016-07-31    0.000000\n",
       "2016-08-31   -0.000847\n",
       "2016-09-30    0.000000\n",
       "2016-10-31   -0.004241\n",
       "2016-11-30   -0.001704\n",
       "2016-12-31   -0.005119\n",
       "2017-01-31    0.000858\n",
       "2017-02-28    0.002571\n",
       "2017-03-31    0.002564\n",
       "2017-04-30    0.000853\n",
       "2017-05-31   -0.003407\n",
       "Name: Monthly_Change, Length: 79, dtype: float64"
      ]
     },
     "execution_count": 25,
     "metadata": {},
     "output_type": "execute_result"
    }
   ],
   "source": [
    "zip_01['Monthly_Change']"
   ]
  },
  {
   "cell_type": "code",
   "execution_count": 26,
   "metadata": {
    "collapsed": true
   },
   "outputs": [],
   "source": [
    "zip_17['Monthly_Change'] = zip_17['Value'].pct_change(1)"
   ]
  },
  {
   "cell_type": "code",
   "execution_count": 27,
   "metadata": {},
   "outputs": [
    {
     "data": {
      "text/plain": [
       "Date\n",
       "2010-11-30         NaN\n",
       "2010-12-31    0.009063\n",
       "2011-01-31    0.005988\n",
       "2011-02-28    0.008929\n",
       "2011-03-31    0.000000\n",
       "2011-04-30    0.002950\n",
       "2011-05-31    0.000000\n",
       "2011-06-30    0.005882\n",
       "2011-07-31    0.002924\n",
       "2011-08-31    0.002915\n",
       "2011-09-30    0.008721\n",
       "2011-10-31    0.008646\n",
       "2011-11-30    0.008571\n",
       "2011-12-31    0.005666\n",
       "2012-01-31    0.000000\n",
       "2012-02-29    0.000000\n",
       "2012-03-31   -0.002817\n",
       "2012-04-30   -0.002825\n",
       "2012-05-31   -0.008499\n",
       "2012-06-30   -0.005714\n",
       "2012-07-31    0.000000\n",
       "2012-08-31    0.005747\n",
       "2012-09-30    0.008571\n",
       "2012-10-31    0.011331\n",
       "2012-11-30    0.005602\n",
       "2012-12-31    0.008357\n",
       "2013-01-31    0.005525\n",
       "2013-02-28    0.005495\n",
       "2013-03-31    0.002732\n",
       "2013-04-30    0.000000\n",
       "                ...   \n",
       "2014-12-31    0.000000\n",
       "2015-01-31    0.002494\n",
       "2015-02-28    0.002488\n",
       "2015-03-31    0.002481\n",
       "2015-04-30    0.002475\n",
       "2015-05-31    0.002469\n",
       "2015-06-30    0.007389\n",
       "2015-07-31    0.004890\n",
       "2015-08-31    0.002433\n",
       "2015-09-30    0.000000\n",
       "2015-10-31   -0.004854\n",
       "2015-11-30   -0.002439\n",
       "2015-12-31   -0.004890\n",
       "2016-01-31    0.000000\n",
       "2016-02-29   -0.002457\n",
       "2016-03-31    0.002463\n",
       "2016-04-30    0.004914\n",
       "2016-05-31    0.004890\n",
       "2016-06-30    0.004866\n",
       "2016-07-31    0.000000\n",
       "2016-08-31    0.002421\n",
       "2016-09-30   -0.002415\n",
       "2016-10-31   -0.002421\n",
       "2016-11-30   -0.007282\n",
       "2016-12-31   -0.007335\n",
       "2017-01-31   -0.004926\n",
       "2017-02-28   -0.004950\n",
       "2017-03-31    0.000000\n",
       "2017-04-30    0.002488\n",
       "2017-05-31    0.000000\n",
       "Name: Monthly_Change, Length: 79, dtype: float64"
      ]
     },
     "execution_count": 27,
     "metadata": {},
     "output_type": "execute_result"
    }
   ],
   "source": [
    "zip_17['Monthly_Change']"
   ]
  },
  {
   "cell_type": "code",
   "execution_count": 28,
   "metadata": {},
   "outputs": [
    {
     "data": {
      "image/png": "[encoded data removed]",
      "text/plain": [
       "<matplotlib.figure.Figure at 0x1181dfa58>"
      ]
     },
     "metadata": {},
     "output_type": "display_data"
    }
   ],
   "source": [
    "zip_01['Monthly_Change'].hist(bins=50, label = 'Z-78701', figsize=(8,4), alpha=0.7)\n",
    "zip_17['Monthly_Change'].hist(bins=50, label = 'Z-78717', figsize=(8,4), alpha=0.7)\n",
    "plt.legend();"
   ]
  },
  {
   "cell_type": "code",
   "execution_count": 29,
   "metadata": {},
   "outputs": [
    {
     "data": {
      "image/png": "[encoded data removed]",
      "text/plain": [
       "<matplotlib.figure.Figure at 0x118192630>"
      ]
     },
     "metadata": {},
     "output_type": "display_data"
    }
   ],
   "source": [
    "zip_01['Monthly_Change'].plot(kind='kde', label = 'Z-78701', figsize=(8,4))\n",
    "zip_17['Monthly_Change'].plot(kind='kde', label = 'Z-78717', figsize=(8,4))\n",
    "plt.legend();"
   ]
  },
  {
   "cell_type": "markdown",
   "metadata": {},
   "source": [
    "DO FUTURE PREDICTION BY ARIMA MODEL"
   ]
  },
  {
   "cell_type": "code",
   "execution_count": null,
   "metadata": {
    "collapsed": true
   },
   "outputs": [],
   "source": []
  }
 ],
 "metadata": {
  "kernelspec": {
   "display_name": "Python 3",
   "language": "python",
   "name": "python3"
  },
  "language_info": {
   "codemirror_mode": {
    "name": "ipython",
    "version": 3
   },
   "file_extension": ".py",
   "mimetype": "text/x-python",
   "name": "python",
   "nbconvert_exporter": "python",
   "pygments_lexer": "ipython3",
   "version": "3.6.1"
  }
 },
 "nbformat": 4,
 "nbformat_minor": 2
}
