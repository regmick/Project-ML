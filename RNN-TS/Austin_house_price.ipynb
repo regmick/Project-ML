{
 "cells": [
  {
   "cell_type": "markdown",
   "metadata": {},
   "source": [
    "## Time Series Data Analysis: Recurrent Neural Network"
   ]
  },
  {
   "cell_type": "markdown",
   "metadata": {},
   "source": [
    "In this notebook I am using RNN model for time series data analysis. For this practice\n",
    "case I used housing price data of single family house in Austin, TX from Quandl. Data sets cover the time from 02/1997 to 09/2017. I split the data as Training and Test sets such as by training the RNN model using data before 2016 and test the model on the set of data those from 2016 and 2017. Important point here is I am focused on direction taken by the predection not the closeness of predicted values. "
   ]
  },
  {
   "cell_type": "markdown",
   "metadata": {},
   "source": [
    "##################################################################\n",
    "First import the required libraries and set the matplotlib inline.\n",
    "##################################################################"
   ]
  },
  {
   "cell_type": "code",
   "execution_count": 108,
   "metadata": {
    "collapsed": true
   },
   "outputs": [],
   "source": [
    "import numpy as np\n",
    "import matplotlib.pyplot as plt\n",
    "import pandas as pd\n",
    "%matplotlib inline"
   ]
  },
  {
   "cell_type": "markdown",
   "metadata": {},
   "source": [
    "###################################################################\n",
    "Let's import the training data set. As I already mention that took\n",
    "data before 2016 as model traing purpose.\n",
    "###################################################################"
   ]
  },
  {
   "cell_type": "code",
   "execution_count": 109,
   "metadata": {
    "collapsed": true
   },
   "outputs": [],
   "source": [
    "train_data = pd.read_csv(\"Austin-single-family-house-price-Train.csv\")"
   ]
  },
  {
   "cell_type": "markdown",
   "metadata": {},
   "source": [
    "######################################################################\n",
    "Select the data column as numpyarray\n",
    "######################################################################"
   ]
  },
  {
   "cell_type": "code",
   "execution_count": 110,
   "metadata": {
    "collapsed": true
   },
   "outputs": [],
   "source": [
    "training_data = train_data.iloc[:,1:2].values"
   ]
  },
  {
   "cell_type": "code",
   "execution_count": 111,
   "metadata": {},
   "outputs": [
    {
     "data": {
      "text/plain": [
       "numpy.ndarray"
      ]
     },
     "execution_count": 111,
     "metadata": {},
     "output_type": "execute_result"
    }
   ],
   "source": [
    "type(training_data)"
   ]
  },
  {
   "cell_type": "markdown",
   "metadata": {},
   "source": [
    "#####################################################################\n",
    "Feature Scaling: Using Normalization\n",
    "######################################################################"
   ]
  },
  {
   "cell_type": "code",
   "execution_count": 112,
   "metadata": {
    "collapsed": true
   },
   "outputs": [],
   "source": [
    "from sklearn.preprocessing import MinMaxScaler"
   ]
  },
  {
   "cell_type": "code",
   "execution_count": 113,
   "metadata": {
    "collapsed": true
   },
   "outputs": [],
   "source": [
    "scalar = MinMaxScaler(feature_range = (0,1))"
   ]
  },
  {
   "cell_type": "code",
   "execution_count": 114,
   "metadata": {},
   "outputs": [
    {
     "name": "stderr",
     "output_type": "stream",
     "text": [
      "//anaconda/envs/python3/lib/python3.6/site-packages/sklearn/utils/validation.py:429: DataConversionWarning: Data with input dtype int64 was converted to float64 by MinMaxScaler.\n",
      "  warnings.warn(msg, _DataConversionWarning)\n"
     ]
    }
   ],
   "source": [
    "training_data_scale = scalar.fit_transform(training_data)"
   ]
  },
  {
   "cell_type": "markdown",
   "metadata": {},
   "source": [
    "###########################################################################\n",
    "Creating data structure with 3 timesteps and 1 output:\n",
    "Each time t, RNN model will look 3 earlier data (3 months) and predicts new output.\n",
    "############################################################################"
   ]
  },
  {
   "cell_type": "code",
   "execution_count": 115,
   "metadata": {
    "collapsed": true
   },
   "outputs": [],
   "source": [
    "X_train = []\n",
    "y_train = []\n",
    "for i in range(3, 227):\n",
    "    X_train.append(training_data_scale[i-3:i, 0])\n",
    "    y_train.append(training_data_scale[i, 0])"
   ]
  },
  {
   "cell_type": "code",
   "execution_count": 116,
   "metadata": {
    "collapsed": true
   },
   "outputs": [],
   "source": [
    "X_train = np.array(X_train)\n",
    "y_train = np.array(y_train)"
   ]
  },
  {
   "cell_type": "markdown",
   "metadata": {},
   "source": [
    "###############################################################################\n",
    "Reshaping data: Adding indicator\n",
    "###############################################################################"
   ]
  },
  {
   "cell_type": "code",
   "execution_count": 117,
   "metadata": {
    "collapsed": true
   },
   "outputs": [],
   "source": [
    "X_train = np.reshape(X_train, (X_train.shape[0], X_train.shape[1], 1))"
   ]
  },
  {
   "cell_type": "markdown",
   "metadata": {},
   "source": [
    "###############################################################################\n",
    "So far I finished the pre-processing.\n",
    "Building the RNN Model\n",
    "###############################################################################"
   ]
  },
  {
   "cell_type": "markdown",
   "metadata": {},
   "source": [
    "Importing Keras libraries and packages"
   ]
  },
  {
   "cell_type": "code",
   "execution_count": 118,
   "metadata": {
    "collapsed": true
   },
   "outputs": [],
   "source": [
    "from keras.models import Sequential\n",
    "from keras.layers import Dense\n",
    "from keras.layers import LSTM\n",
    "from keras.layers import Dropout"
   ]
  },
  {
   "cell_type": "markdown",
   "metadata": {},
   "source": [
    "Initializing RNN"
   ]
  },
  {
   "cell_type": "code",
   "execution_count": 119,
   "metadata": {
    "collapsed": true
   },
   "outputs": [],
   "source": [
    "regressor = Sequential()"
   ]
  },
  {
   "cell_type": "markdown",
   "metadata": {},
   "source": [
    "Adding the first LSTM layer and some Dropout regularization"
   ]
  },
  {
   "cell_type": "code",
   "execution_count": 120,
   "metadata": {
    "collapsed": true
   },
   "outputs": [],
   "source": [
    "regressor.add(LSTM(units = 75, return_sequences = True, input_shape = (X_train.shape[1], 1)))\n",
    "regressor.add(Dropout(0.2))"
   ]
  },
  {
   "cell_type": "markdown",
   "metadata": {},
   "source": [
    "Adding the second LSTM layer and some Dropout regularization"
   ]
  },
  {
   "cell_type": "code",
   "execution_count": 121,
   "metadata": {
    "collapsed": true
   },
   "outputs": [],
   "source": [
    "regressor.add(LSTM(units = 75, return_sequences = True))\n",
    "regressor.add(Dropout(0.2))"
   ]
  },
  {
   "cell_type": "markdown",
   "metadata": {},
   "source": [
    "Adding the third LSTM layer and some Dropout regularization"
   ]
  },
  {
   "cell_type": "code",
   "execution_count": 122,
   "metadata": {
    "collapsed": true
   },
   "outputs": [],
   "source": [
    "regressor.add(LSTM(units = 75, return_sequences = True))\n",
    "regressor.add(Dropout(0.2))"
   ]
  },
  {
   "cell_type": "markdown",
   "metadata": {},
   "source": [
    "Adding the fourth LSTM layer and some Dropout regularization"
   ]
  },
  {
   "cell_type": "code",
   "execution_count": 123,
   "metadata": {
    "collapsed": true
   },
   "outputs": [],
   "source": [
    "regressor.add(LSTM(units = 75, return_sequences = True ))\n",
    "regressor.add(Dropout(0.2))"
   ]
  },
  {
   "cell_type": "markdown",
   "metadata": {
    "collapsed": true
   },
   "source": [
    "Adding the fifth layer and some Dropout regularization"
   ]
  },
  {
   "cell_type": "code",
   "execution_count": 124,
   "metadata": {
    "collapsed": true
   },
   "outputs": [],
   "source": [
    "#regressor.add(LSTM(units = 100, return_sequences = True ))\n",
    "#regressor.add(Dropout(0.2))"
   ]
  },
  {
   "cell_type": "markdown",
   "metadata": {},
   "source": [
    "Adding sixth layer and Dropout regularization"
   ]
  },
  {
   "cell_type": "code",
   "execution_count": 125,
   "metadata": {
    "collapsed": true
   },
   "outputs": [],
   "source": [
    "regressor.add(LSTM(units = 75))\n",
    "regressor.add(Dropout(0.2))"
   ]
  },
  {
   "cell_type": "markdown",
   "metadata": {},
   "source": [
    "Adding output layer"
   ]
  },
  {
   "cell_type": "code",
   "execution_count": 126,
   "metadata": {
    "collapsed": true
   },
   "outputs": [],
   "source": [
    "regressor.add(Dense(units=1))"
   ]
  },
  {
   "cell_type": "markdown",
   "metadata": {},
   "source": [
    "Compling RNN:"
   ]
  },
  {
   "cell_type": "code",
   "execution_count": 127,
   "metadata": {
    "collapsed": true
   },
   "outputs": [],
   "source": [
    "regressor.compile(optimizer = 'adam', loss = 'mean_squared_error')"
   ]
  },
  {
   "cell_type": "markdown",
   "metadata": {},
   "source": [
    "Fitting RNN to training set"
   ]
  },
  {
   "cell_type": "code",
   "execution_count": 128,
   "metadata": {},
   "outputs": [
    {
     "name": "stdout",
     "output_type": "stream",
     "text": [
      "Epoch 1/80\n",
      "224/224 [==============================] - 8s - loss: 0.1326     \n",
      "Epoch 2/80\n",
      "224/224 [==============================] - 0s - loss: 0.0730     \n",
      "Epoch 3/80\n",
      "224/224 [==============================] - 0s - loss: 0.0452     \n",
      "Epoch 4/80\n",
      "224/224 [==============================] - 0s - loss: 0.0374     \n",
      "Epoch 5/80\n",
      "224/224 [==============================] - 0s - loss: 0.0329     \n",
      "Epoch 6/80\n",
      "224/224 [==============================] - 0s - loss: 0.0271     \n",
      "Epoch 7/80\n",
      "224/224 [==============================] - 0s - loss: 0.0207     \n",
      "Epoch 8/80\n",
      "224/224 [==============================] - 0s - loss: 0.0117     \n",
      "Epoch 9/80\n",
      "224/224 [==============================] - 0s - loss: 0.0042     \n",
      "Epoch 10/80\n",
      "224/224 [==============================] - 0s - loss: 0.0046     \n",
      "Epoch 11/80\n",
      "224/224 [==============================] - 0s - loss: 0.0039     \n",
      "Epoch 12/80\n",
      "224/224 [==============================] - 0s - loss: 0.0030     \n",
      "Epoch 13/80\n",
      "224/224 [==============================] - 0s - loss: 0.0036     \n",
      "Epoch 14/80\n",
      "224/224 [==============================] - 0s - loss: 0.0027     \n",
      "Epoch 15/80\n",
      "224/224 [==============================] - 0s - loss: 0.0024     \n",
      "Epoch 16/80\n",
      "224/224 [==============================] - 0s - loss: 0.0024     \n",
      "Epoch 17/80\n",
      "224/224 [==============================] - 0s - loss: 0.0025     \n",
      "Epoch 18/80\n",
      "224/224 [==============================] - 0s - loss: 0.0030     \n",
      "Epoch 19/80\n",
      "224/224 [==============================] - 0s - loss: 0.0023     \n",
      "Epoch 20/80\n",
      "224/224 [==============================] - 0s - loss: 0.0026     \n",
      "Epoch 21/80\n",
      "224/224 [==============================] - 0s - loss: 0.0025     \n",
      "Epoch 22/80\n",
      "224/224 [==============================] - 0s - loss: 0.0025     \n",
      "Epoch 23/80\n",
      "224/224 [==============================] - 0s - loss: 0.0024     \n",
      "Epoch 24/80\n",
      "224/224 [==============================] - 0s - loss: 0.0022     \n",
      "Epoch 25/80\n",
      "224/224 [==============================] - 0s - loss: 0.0020     \n",
      "Epoch 26/80\n",
      "224/224 [==============================] - 0s - loss: 0.0022     \n",
      "Epoch 27/80\n",
      "224/224 [==============================] - 0s - loss: 0.0016     \n",
      "Epoch 28/80\n",
      "224/224 [==============================] - 0s - loss: 0.0016     \n",
      "Epoch 29/80\n",
      "224/224 [==============================] - 0s - loss: 0.0029     \n",
      "Epoch 30/80\n",
      "224/224 [==============================] - 0s - loss: 0.0018     \n",
      "Epoch 31/80\n",
      "224/224 [==============================] - 0s - loss: 0.0018     \n",
      "Epoch 32/80\n",
      "224/224 [==============================] - 0s - loss: 0.0019     \n",
      "Epoch 33/80\n",
      "224/224 [==============================] - 0s - loss: 0.0018     \n",
      "Epoch 34/80\n",
      "224/224 [==============================] - 0s - loss: 0.0019     \n",
      "Epoch 35/80\n",
      "224/224 [==============================] - 0s - loss: 0.0016     \n",
      "Epoch 36/80\n",
      "224/224 [==============================] - 0s - loss: 0.0014     \n",
      "Epoch 37/80\n",
      "224/224 [==============================] - 0s - loss: 0.0019     \n",
      "Epoch 38/80\n",
      "224/224 [==============================] - 0s - loss: 0.0017     \n",
      "Epoch 39/80\n",
      "224/224 [==============================] - 0s - loss: 0.0020     \n",
      "Epoch 40/80\n",
      "224/224 [==============================] - 0s - loss: 0.0017     \n",
      "Epoch 41/80\n",
      "224/224 [==============================] - 0s - loss: 0.0017     \n",
      "Epoch 42/80\n",
      "224/224 [==============================] - 0s - loss: 0.0017     \n",
      "Epoch 43/80\n",
      "224/224 [==============================] - 0s - loss: 0.0021     \n",
      "Epoch 44/80\n",
      "224/224 [==============================] - 0s - loss: 0.0020     \n",
      "Epoch 45/80\n",
      "224/224 [==============================] - 0s - loss: 0.0025     \n",
      "Epoch 46/80\n",
      "224/224 [==============================] - 0s - loss: 0.0021     \n",
      "Epoch 47/80\n",
      "224/224 [==============================] - 0s - loss: 0.0019     \n",
      "Epoch 48/80\n",
      "224/224 [==============================] - 0s - loss: 0.0019     \n",
      "Epoch 49/80\n",
      "224/224 [==============================] - 0s - loss: 0.0016     \n",
      "Epoch 50/80\n",
      "224/224 [==============================] - 0s - loss: 0.0017     \n",
      "Epoch 51/80\n",
      "224/224 [==============================] - 0s - loss: 0.0015     \n",
      "Epoch 52/80\n",
      "224/224 [==============================] - 0s - loss: 0.0015     \n",
      "Epoch 53/80\n",
      "224/224 [==============================] - 0s - loss: 0.0016     \n",
      "Epoch 54/80\n",
      "224/224 [==============================] - 0s - loss: 0.0014     \n",
      "Epoch 55/80\n",
      "224/224 [==============================] - 0s - loss: 0.0016     \n",
      "Epoch 56/80\n",
      "224/224 [==============================] - 0s - loss: 0.0017     \n",
      "Epoch 57/80\n",
      "224/224 [==============================] - 0s - loss: 0.0015     \n",
      "Epoch 58/80\n",
      "224/224 [==============================] - 0s - loss: 0.0015     \n",
      "Epoch 59/80\n",
      "224/224 [==============================] - 0s - loss: 0.0018     \n",
      "Epoch 60/80\n",
      "224/224 [==============================] - 0s - loss: 0.0016     \n",
      "Epoch 61/80\n",
      "224/224 [==============================] - 0s - loss: 0.0014     \n",
      "Epoch 62/80\n",
      "224/224 [==============================] - 0s - loss: 0.0015     \n",
      "Epoch 63/80\n",
      "224/224 [==============================] - 0s - loss: 0.0018     \n",
      "Epoch 64/80\n",
      "224/224 [==============================] - 0s - loss: 0.0017     \n",
      "Epoch 65/80\n",
      "224/224 [==============================] - 0s - loss: 0.0017     \n",
      "Epoch 66/80\n",
      "224/224 [==============================] - 0s - loss: 0.0020     \n",
      "Epoch 67/80\n",
      "224/224 [==============================] - 0s - loss: 0.0015     \n",
      "Epoch 68/80\n",
      "224/224 [==============================] - 0s - loss: 0.0019     \n",
      "Epoch 69/80\n",
      "224/224 [==============================] - 0s - loss: 0.0017     \n",
      "Epoch 70/80\n",
      "224/224 [==============================] - 0s - loss: 0.0024     \n",
      "Epoch 71/80\n",
      "224/224 [==============================] - 0s - loss: 0.0015     \n",
      "Epoch 72/80\n",
      "224/224 [==============================] - 0s - loss: 0.0018     \n",
      "Epoch 73/80\n",
      "224/224 [==============================] - 0s - loss: 0.0018     \n",
      "Epoch 74/80\n",
      "224/224 [==============================] - 0s - loss: 0.0016     \n",
      "Epoch 75/80\n",
      "224/224 [==============================] - 0s - loss: 0.0020     \n",
      "Epoch 76/80\n",
      "224/224 [==============================] - 0s - loss: 0.0019     \n",
      "Epoch 77/80\n",
      "224/224 [==============================] - 0s - loss: 0.0019     \n",
      "Epoch 78/80\n",
      "224/224 [==============================] - 0s - loss: 0.0019     \n",
      "Epoch 79/80\n",
      "224/224 [==============================] - 0s - loss: 0.0021     \n",
      "Epoch 80/80\n",
      "224/224 [==============================] - 0s - loss: 0.0018     \n"
     ]
    },
    {
     "data": {
      "text/plain": [
       "<keras.callbacks.History at 0x133797860>"
      ]
     },
     "execution_count": 128,
     "metadata": {},
     "output_type": "execute_result"
    }
   ],
   "source": [
    "regressor.fit(X_train, y_train, epochs=80, batch_size=32)\n"
   ]
  },
  {
   "cell_type": "markdown",
   "metadata": {},
   "source": [
    "#################################################################\n",
    "Making the prediction:\n",
    "##################################################################"
   ]
  },
  {
   "cell_type": "code",
   "execution_count": 129,
   "metadata": {
    "collapsed": true
   },
   "outputs": [],
   "source": [
    "test_data = pd.read_csv('Austin-single-family-house-price-Test.csv')"
   ]
  },
  {
   "cell_type": "code",
   "execution_count": 130,
   "metadata": {
    "collapsed": true
   },
   "outputs": [],
   "source": [
    "real_house_price = test_data.iloc[:, 1:2].values"
   ]
  },
  {
   "cell_type": "markdown",
   "metadata": {},
   "source": [
    "#####################################################################\n",
    "Getting predicted house price\n",
    "#####################################################################"
   ]
  },
  {
   "cell_type": "code",
   "execution_count": 131,
   "metadata": {
    "collapsed": true
   },
   "outputs": [],
   "source": [
    "dataset_total = pd.concat((train_data['Value'], test_data['Value']), axis=0)\n",
    "inputs = dataset_total[len(dataset_total) - len(test_data) - 3:].values\n",
    "inputs = inputs.reshape(-1,1)\n",
    "inputs = scalar.transform(inputs)\n",
    "X_test = []\n",
    "for i in range(3, 24):\n",
    "    X_test.append(inputs[i-3:i, 0])\n",
    "X_test = np.array(X_test)\n",
    "X_test = np.reshape(X_test, (X_test.shape[0], X_test.shape[1], 1))\n",
    "predicted_house_price = regressor.predict(X_test)\n",
    "predicted_house_price = scalar.inverse_transform(predicted_house_price)"
   ]
  },
  {
   "cell_type": "markdown",
   "metadata": {},
   "source": [
    "#########################################################################\n",
    "Visualization:\n",
    "##########################################################################"
   ]
  },
  {
   "cell_type": "code",
   "execution_count": 132,
   "metadata": {},
   "outputs": [
    {
     "data": {
      "text/plain": [
       "<matplotlib.text.Text at 0x1451f6438>"
      ]
     },
     "execution_count": 132,
     "metadata": {},
     "output_type": "execute_result"
    },
    {
     "data": {
      "image/png": "[encoded data removed]",
      "text/plain": [
       "<matplotlib.figure.Figure at 0x14307ecf8>"
      ]
     },
     "metadata": {},
     "output_type": "display_data"
    }
   ],
   "source": [
    "plt.plot(real_house_price, color = 'red', label = 'Real Austin house price')\n",
    "plt.plot(predicted_house_price, color = 'blue', label = 'Predicted Austin house price')\n",
    "plt.title('Austin housing price prediction')\n",
    "plt.xlabel('Time')\n",
    "plt.ylabel('Price($)')"
   ]
  },
  {
   "cell_type": "markdown",
   "metadata": {},
   "source": [
    "This is great ?  This Model captured the real train of data but slowly due to \n",
    "non linearity of data.If we have enough data points to train the model then we will be able to capture real time prediction. "
   ]
  },
  {
   "cell_type": "code",
   "execution_count": null,
   "metadata": {
    "collapsed": true
   },
   "outputs": [],
   "source": []
  },
  {
   "cell_type": "code",
   "execution_count": 133,
   "metadata": {},
   "outputs": [
    {
     "data": {
      "text/plain": [
       "4197.98656677466"
      ]
     },
     "execution_count": 133,
     "metadata": {},
     "output_type": "execute_result"
    }
   ],
   "source": [
    "import math\n",
    "from sklearn.metrics import mean_squared_error\n",
    "RMSE = math.sqrt(mean_squared_error(real_house_price, predicted_house_price))\n",
    "RMSE"
   ]
  },
  {
   "cell_type": "code",
   "execution_count": null,
   "metadata": {
    "collapsed": true
   },
   "outputs": [],
   "source": []
  },
  {
   "cell_type": "code",
   "execution_count": null,
   "metadata": {
    "collapsed": true
   },
   "outputs": [],
   "source": []
  }
 ],
 "metadata": {
  "kernelspec": {
   "display_name": "Python 3",
   "language": "python",
   "name": "python3"
  },
  "language_info": {
   "codemirror_mode": {
    "name": "ipython",
    "version": 3
   },
   "file_extension": ".py",
   "mimetype": "text/x-python",
   "name": "python",
   "nbconvert_exporter": "python",
   "pygments_lexer": "ipython3",
   "version": "3.6.1"
  }
 },
 "nbformat": 4,
 "nbformat_minor": 2
}
